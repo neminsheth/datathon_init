{
  "nbformat": 4,
  "nbformat_minor": 0,
  "metadata": {
    "colab": {
      "provenance": []
    },
    "kernelspec": {
      "name": "python3",
      "display_name": "Python 3"
    },
    "language_info": {
      "name": "python"
    }
  },
  "cells": [
    {
      "cell_type": "code",
      "source": [
        "!pip install folium\n",
        "!pip install geopy\n",
        "!pip install langdetect\n",
        "!pip install langdetect pycountry"
      ],
      "metadata": {
        "id": "jOjhFz9L-qsm",
        "colab": {
          "base_uri": "https://localhost:8080/"
        },
        "outputId": "ca59b871-1f0c-453b-edb8-5910208cf422"
      },
      "execution_count": 15,
      "outputs": [
        {
          "output_type": "stream",
          "name": "stdout",
          "text": [
            "Requirement already satisfied: folium in /usr/local/lib/python3.10/dist-packages (0.14.0)\n",
            "Requirement already satisfied: branca>=0.6.0 in /usr/local/lib/python3.10/dist-packages (from folium) (0.7.1)\n",
            "Requirement already satisfied: jinja2>=2.9 in /usr/local/lib/python3.10/dist-packages (from folium) (3.1.3)\n",
            "Requirement already satisfied: numpy in /usr/local/lib/python3.10/dist-packages (from folium) (1.23.5)\n",
            "Requirement already satisfied: requests in /usr/local/lib/python3.10/dist-packages (from folium) (2.31.0)\n",
            "Requirement already satisfied: MarkupSafe>=2.0 in /usr/local/lib/python3.10/dist-packages (from jinja2>=2.9->folium) (2.1.4)\n",
            "Requirement already satisfied: charset-normalizer<4,>=2 in /usr/local/lib/python3.10/dist-packages (from requests->folium) (3.3.2)\n",
            "Requirement already satisfied: idna<4,>=2.5 in /usr/local/lib/python3.10/dist-packages (from requests->folium) (3.6)\n",
            "Requirement already satisfied: urllib3<3,>=1.21.1 in /usr/local/lib/python3.10/dist-packages (from requests->folium) (2.0.7)\n",
            "Requirement already satisfied: certifi>=2017.4.17 in /usr/local/lib/python3.10/dist-packages (from requests->folium) (2023.11.17)\n",
            "Requirement already satisfied: geopy in /usr/local/lib/python3.10/dist-packages (2.3.0)\n",
            "Requirement already satisfied: geographiclib<3,>=1.52 in /usr/local/lib/python3.10/dist-packages (from geopy) (2.0)\n"
          ]
        }
      ]
    },
    {
      "cell_type": "code",
      "source": [
        "import folium\n",
        "from geopy.geocoders import Nominatim\n",
        "from IPython.display import IFrame\n",
        "\n",
        "# Get user input for the location name\n",
        "location_name = input(\"Enter location name: \")\n",
        "\n",
        "# Use geopy to get the coordinates from the location name\n",
        "geolocator = Nominatim(user_agent=\"my_geocoder\")\n",
        "location = geolocator.geocode(location_name)\n",
        "\n",
        "if location:\n",
        "    latitude, longitude = location.latitude, location.longitude\n",
        "\n",
        "    # Create a map centered at the specified location\n",
        "    m = folium.Map(location=[latitude, longitude], zoom_start=10)\n",
        "\n",
        "    # Add a marker\n",
        "    folium.Marker(location=[latitude, longitude], popup=location_name).add_to(m)\n",
        "\n",
        "    # Save the map to an HTML file\n",
        "    map_filename = \"user_location_map.html\"\n",
        "    m.save(map_filename)\n",
        "\n",
        "    # Display the map using IFrame\n",
        "    IFrame(src=map_filename, width=700, height=600)\n",
        "else:\n",
        "    print(f\"Could not find coordinates for the location: {location_name}\")\n"
      ],
      "metadata": {
        "id": "u18CTaAG8ilZ"
      },
      "execution_count": null,
      "outputs": []
    },
    {
      "cell_type": "code",
      "source": [
        "pip install requests\n"
      ],
      "metadata": {
        "colab": {
          "base_uri": "https://localhost:8080/"
        },
        "id": "OJian-geVrqE",
        "outputId": "e621c174-f421-46d0-fd48-dec19943fcee"
      },
      "execution_count": 27,
      "outputs": [
        {
          "output_type": "stream",
          "name": "stdout",
          "text": [
            "Requirement already satisfied: requests in /usr/local/lib/python3.10/dist-packages (2.31.0)\n",
            "Requirement already satisfied: charset-normalizer<4,>=2 in /usr/local/lib/python3.10/dist-packages (from requests) (3.3.2)\n",
            "Requirement already satisfied: idna<4,>=2.5 in /usr/local/lib/python3.10/dist-packages (from requests) (3.6)\n",
            "Requirement already satisfied: urllib3<3,>=1.21.1 in /usr/local/lib/python3.10/dist-packages (from requests) (2.0.7)\n",
            "Requirement already satisfied: certifi>=2017.4.17 in /usr/local/lib/python3.10/dist-packages (from requests) (2023.11.17)\n"
          ]
        }
      ]
    },
    {
      "cell_type": "code",
      "source": [
        "import requests\n",
        "\n",
        "# Replace 'your_api_key' with your actual API key\n",
        "api_key = 'fb3477a566mshc1dde9b3caee813p163f63jsne69794155513b'\n",
        "\n",
        "def get_google_news(keyword, language='en-US'):\n",
        "    url = 'https://google-news13.p.rapidapi.com/search'\n",
        "    headers = {\n",
        "        'X-RapidAPI-Key': 'fb3477a566mshc1dde9b3caee813p163f63jsne69794155513',\n",
        "        'X-RapidAPI-Host': 'google-news13.p.rapidapi.com',\n",
        "    }\n",
        "    params = {\n",
        "        'keyword': keyword,\n",
        "        'lr': language,\n",
        "    }\n",
        "\n",
        "    try:\n",
        "        response = requests.get(url, headers=headers, params=params)\n",
        "        response.raise_for_status()\n",
        "        return response.json()\n",
        "    except requests.exceptions.RequestException as e:\n",
        "        print(f\"Error: {e}\")\n",
        "        return None\n",
        "\n",
        "# Get user input for the search keyword\n",
        "keyword = input(\"Enter the search keyword: \")\n",
        "\n",
        "# Call the function to get Google News for the specified keyword\n",
        "news_data = get_google_news(keyword)\n",
        "\n",
        "# Display the news articles or error message\n",
        "if news_data and 'articles' in news_data:\n",
        "    print(f\"News articles related to '{keyword}':\")\n",
        "    for article in news_data['articles']:\n",
        "        print(f\"Title: {article['title']}\")\n",
        "        print(f\"Snippet: {article['snippet']}\")\n",
        "        print(f\"Publisher: {article['publisher']}\")\n",
        "        print(f\"Timestamp: {article['timestamp']}\")\n",
        "        print(f\"News URL: {article['newsUrl']}\")\n",
        "        print(\"\\n\")\n",
        "else:\n",
        "    print(\"Unable to fetch news data. Check your API key, endpoint, and internet connection.\")\n"
      ],
      "metadata": {
        "colab": {
          "base_uri": "https://localhost:8080/"
        },
        "id": "kH8LReYmUTm9",
        "outputId": "ebb32c9d-5541-49f3-b490-a5a9fd870992"
      },
      "execution_count": 33,
      "outputs": [
        {
          "output_type": "stream",
          "name": "stdout",
          "text": [
            "Enter the search keyword: Facebook\n",
            "Unable to fetch news data. Check your API key, endpoint, and internet connection.\n"
          ]
        }
      ]
    },
    {
      "cell_type": "code",
      "source": [
        "import requests\n",
        "\n",
        "def get_trending_tweets_by_location(location_name):\n",
        "    # Replace 'YOUR_RAPIDAPI_KEY' with your actual RapidAPI key\n",
        "    rapidapi_key = 'fb3477a566mshc1dde9b3caee813p163f63jsne69794155513'\n",
        "\n",
        "    # Replace 'twitter-trends-by-location.p.rapidapi.com' with the correct RapidAPI host\n",
        "    rapidapi_host = 'twitter-trends-by-location.p.rapidapi.com'\n",
        "\n",
        "    # API endpoint for getting trending tweets by location\n",
        "    endpoint_url = f'https://{rapidapi_host}/trends'\n",
        "\n",
        "    # Headers for the request\n",
        "    headers = {\n",
        "        'X-RapidAPI-Key': rapidapi_key,\n",
        "        'X-RapidAPI-Host': rapidapi_host\n",
        "    }\n",
        "\n",
        "    # Parameters for the request\n",
        "    params = {\n",
        "        'location': location_name\n",
        "    }\n",
        "\n",
        "    try:\n",
        "        # Make the GET request\n",
        "        response = requests.get(endpoint_url, headers=headers, params=params)\n",
        "        response_data = response.json()\n",
        "\n",
        "        # Check if the request was successful\n",
        "        if response_data.get('status') == 'SUCCESS':\n",
        "            trending_tweets = response_data.get('trending', {}).get('trends', [])\n",
        "\n",
        "            # Display the trending tweets\n",
        "            if trending_tweets:\n",
        "                for index, trend in enumerate(trending_tweets):\n",
        "                    print(f\"{index + 1}:\")\n",
        "                    print(f\"name: {trend['name']}\")\n",
        "                    print(f\"postCount: {trend['postCount']}\")\n",
        "                    print(f\"domain: {trend['domain']}\")\n",
        "                    print(f\"rank: {trend['rank']}\")\n",
        "                    print(f\"mobileIntent: {trend['mobileIntent']}\")\n",
        "                    print(f\"webUrl: {trend['webUrl']}\\n\")\n",
        "\n",
        "            else:\n",
        "                print(f\"No trending tweets found for {location_name}\")\n",
        "\n",
        "        else:\n",
        "            print(f\"Request failed. Message: {response_data.get('message')}\")\n",
        "\n",
        "    except Exception as e:\n",
        "        print(f\"An error occurred: {e}\")\n",
        "\n",
        "# Example usage: Get trending tweets for the United States\n",
        "get_trending_tweets_by_location(\"United States\")\n"
      ],
      "metadata": {
        "colab": {
          "base_uri": "https://localhost:8080/"
        },
        "id": "FkOtBgKAZ_x4",
        "outputId": "546c3a24-f7b7-47c9-84e9-1deede02e033"
      },
      "execution_count": 37,
      "outputs": [
        {
          "output_type": "stream",
          "name": "stdout",
          "text": [
            "Request failed. Message: Endpoint '/trends' does not exist\n"
          ]
        }
      ]
    },
    {
      "cell_type": "code",
      "source": [
        "import requests\n",
        "import folium\n",
        "from geopy.geocoders import Nominatim\n",
        "from IPython.display import IFrame\n",
        "\n",
        "def get_coordinates_from_location(location_name):\n",
        "    # Use geopy to get the coordinates from the location name\n",
        "    geolocator = Nominatim(user_agent=\"my_geocoder\")\n",
        "    location = geolocator.geocode(location_name)\n",
        "\n",
        "    if location:\n",
        "        return location.latitude, location.longitude\n",
        "    else:\n",
        "        return None\n",
        "\n",
        "def get_weather_info(lat, lon):\n",
        "    # Replace 'YOUR_RAPIDAPI_KEY' with your actual RapidAPI key\n",
        "    rapidapi_key = 'fb3477a566mshc1dde9b3caee813p163f63jsne69794155513'\n",
        "\n",
        "    # Replace 'open-weather13.p.rapidapi.com' with the correct RapidAPI host\n",
        "    rapidapi_host = 'open-weather13.p.rapidapi.com'\n",
        "\n",
        "    # API endpoint for getting weather information by latitude and longitude\n",
        "    endpoint_url = f'https://{rapidapi_host}/city/latlon/{lat}/{lon}'\n",
        "\n",
        "    # Headers for the request\n",
        "    headers = {\n",
        "        'X-RapidAPI-Key': rapidapi_key,\n",
        "        'X-RapidAPI-Host': rapidapi_host\n",
        "    }\n",
        "\n",
        "    try:\n",
        "        # Make the GET request\n",
        "        response = requests.get(endpoint_url, headers=headers)\n",
        "        response_data = response.json()\n",
        "\n",
        "        # Display weather information\n",
        "        if 'coord' in response_data:\n",
        "            coord_info = response_data['coord']\n",
        "            weather_info = response_data['weather'][0]\n",
        "            main_info = response_data['main']\n",
        "\n",
        "            print(\"Coordinate Information:\")\n",
        "            print(f\"Longitude: {coord_info['lon']}\")\n",
        "            print(f\"Latitude: {coord_info['lat']}\\n\")\n",
        "\n",
        "            print(\"Weather Information:\")\n",
        "            print(f\"Weather Condition: {weather_info['main']}\")\n",
        "            print(f\"Temperature: {main_info['temp']} K\")\n",
        "            print(f\"Feels Like: {main_info['feels_like']} K\")\n",
        "            print(f\"Minimum Temperature: {main_info['temp_min']} K\")\n",
        "            print(f\"Maximum Temperature: {main_info['temp_max']} K\")\n",
        "            print(f\"Pressure: {main_info['pressure']} hPa\")\n",
        "            print(f\"Humidity: {main_info['humidity']}%\\n\")\n",
        "\n",
        "        else:\n",
        "            print(f\"No weather information found for the given coordinates\")\n",
        "\n",
        "    except Exception as e:\n",
        "        print(f\"An error occurred: {e}\")\n",
        "\n",
        "def create_map_and_display(location_name, latitude, longitude):\n",
        "    # Create a map centered at the specified location\n",
        "    m = folium.Map(location=[latitude, longitude], zoom_start=10)\n",
        "\n",
        "    # Add a marker\n",
        "    folium.Marker(location=[latitude, longitude], popup=location_name).add_to(m)\n",
        "\n",
        "    # Save the map to an HTML file\n",
        "    map_filename = \"user_location_map.html\"\n",
        "    m.save(map_filename)\n",
        "\n",
        "    # Display the map using IFrame\n",
        "    return IFrame(src=map_filename, width=700, height=600)\n",
        "\n",
        "# Get user input for the location name\n",
        "location_name = input(\"Enter location name: \")\n",
        "\n",
        "# Get coordinates from the location name\n",
        "coordinates = get_coordinates_from_location(location_name)\n",
        "\n",
        "if coordinates:\n",
        "    latitude, longitude = coordinates\n",
        "\n",
        "    # Display the map\n",
        "    map_iframe = create_map_and_display(location_name, latitude, longitude)\n",
        "    map_iframe\n",
        "    # Get weather information\n",
        "    get_weather_info(latitude, longitude)\n",
        "else:\n",
        "    print(f\"Could not find coordinates for the location: {location_name}\")\n"
      ],
      "metadata": {
        "colab": {
          "base_uri": "https://localhost:8080/"
        },
        "id": "RBFwmrtEWdwP",
        "outputId": "77390afe-3364-44d7-97f3-4ed571954b23"
      },
      "execution_count": 3,
      "outputs": [
        {
          "output_type": "stream",
          "name": "stdout",
          "text": [
            "Enter location name: Melbourne\n",
            "Coordinate Information:\n",
            "Longitude: 144.9632\n",
            "Latitude: -37.8142\n",
            "\n",
            "Weather Information:\n",
            "Weather Condition: Clouds\n",
            "Temperature: 294.11 K\n",
            "Feels Like: 293.38 K\n",
            "Minimum Temperature: 292.5 K\n",
            "Maximum Temperature: 296.15 K\n",
            "Pressure: 1020 hPa\n",
            "Humidity: 43%\n",
            "\n"
          ]
        }
      ]
    },
    {
      "cell_type": "code",
      "source": [
        "import requests\n",
        "\n",
        "def get_place_id(locations, target_name):\n",
        "    for location in locations:\n",
        "        if location.get('name') == target_name:\n",
        "            return location.get('placeID')\n",
        "    return None\n",
        "\n",
        "# Part 1: Get Place ID\n",
        "locations_url = \"https://twitter-trends-by-location.p.rapidapi.com/locations\"\n",
        "headers = {\n",
        "    \"X-RapidAPI-Key\": \"a10c9fcbc8mshdd4499a836b72c3p1f9503jsn93547fd8c876\",\n",
        "    \"X-RapidAPI-Host\": \"twitter-trends-by-location.p.rapidapi.com\"\n",
        "}\n",
        "\n",
        "response = requests.get(locations_url, headers=headers)\n",
        "\n",
        "try:\n",
        "    response.raise_for_status()\n",
        "    data = response.json()\n",
        "    locations = data.get('locations', [])\n",
        "\n",
        "    if locations:\n",
        "        target_location_name = input(\"Enter the target location name (e.g., Afghanistan): \")\n",
        "        place_id = get_place_id(locations, target_location_name)\n",
        "\n",
        "        if place_id:\n",
        "            print(f\"The placeID for {target_location_name} is: {place_id}\")\n",
        "        else:\n",
        "            print(f\"Error: Unable to find placeID for {target_location_name}\")\n",
        "    else:\n",
        "        print(\"Error: No locations found in the response.\")\n",
        "except requests.exceptions.RequestException as e:\n",
        "    print(f\"Error: {e}\")\n",
        "\n",
        "# Part 2: Get Trending Tweets\n",
        "if place_id:\n",
        "    trends_url = f\"https://twitter-trends-by-location.p.rapidapi.com/location/{place_id}\"\n",
        "    trends_response = requests.get(trends_url, headers=headers)\n",
        "\n",
        "    try:\n",
        "        trends_response.raise_for_status()\n",
        "        trending_data = trends_response.json()\n",
        "\n",
        "        # Print the raw JSON response\n",
        "        print(\"Raw JSON Response:\")\n",
        "        print(trending_data)\n",
        "\n",
        "        if trending_data:\n",
        "            trending_tweets = trending_data.get('trends', [])\n",
        "\n",
        "            if trending_tweets:\n",
        "                print(\"\\nTrending Tweet URLs:\")\n",
        "                for tweet in trending_tweets:\n",
        "                    print(tweet.get('webUrl'))\n",
        "            else:\n",
        "                print(\"No trending tweets found.\")\n",
        "        else:\n",
        "            print(\"Error: Unable to fetch trending data.\")\n",
        "    except requests.exceptions.RequestException as e:\n",
        "        print(f\"Error: {e}\")\n",
        "\n"
      ],
      "metadata": {
        "colab": {
          "base_uri": "https://localhost:8080/"
        },
        "id": "oV2-xqKetAtu",
        "outputId": "14cad1c4-d618-4212-9b62-307710b4ad44"
      },
      "execution_count": 19,
      "outputs": [
        {
          "output_type": "stream",
          "name": "stdout",
          "text": [
            "Enter the target location name (e.g., Afghanistan): India\n",
            "The placeID for India is: d2c5d61cecd034eb91fda2134a615be1\n",
            "Raw JSON Response:\n",
            "{'status': 'SUCCESS', 'message': 'Request was successful', 'trending': {'name': 'India', 'placeID': 'd2c5d61cecd034eb91fda2134a615be1', 'locationType': 'Country', 'trends': [{'name': '#SupremeCourt', 'postCount': 28500, 'domain': 'Politics', 'rank': 2, 'mobileIntent': 'twitter://search/?query=%23SupremeCourt&src=trend_click&pc=true&vertical=trends', 'webUrl': 'https://twitter.com/search?q=%22%23SupremeCourt%22&src=trend_click&vertical=trends'}, {'name': 'Lana', 'postCount': 419000, 'domain': 'India', 'rank': 3, 'mobileIntent': 'twitter://search/?query=Lana&src=trend_click&pc=true&vertical=trends', 'webUrl': 'https://twitter.com/search?q=%22Lana%22&src=trend_click&vertical=trends'}, {'name': '#ByeByeModi', 'postCount': None, 'domain': 'Politics', 'rank': 4, 'mobileIntent': 'twitter://search/?query=%23ByeByeModi&src=trend_click&pc=true&vertical=trends', 'webUrl': 'https://twitter.com/search?q=%22%23ByeByeModi%22&src=trend_click&vertical=trends'}, {'name': 'BJP 370', 'postCount': None, 'domain': 'India', 'rank': 5, 'mobileIntent': 'twitter://search/?query=BJP+370&src=trend_click&pc=true&vertical=trends', 'webUrl': 'https://twitter.com/search?q=%22BJP+370%22&src=trend_click&vertical=trends'}, {'name': 'U.S. Border Patrol', 'postCount': 4426, 'domain': 'Government institutions', 'rank': 6, 'mobileIntent': 'twitter://search/?query=U.S.+Border+Patrol&src=trend_click&pc=true&vertical=trends', 'webUrl': 'https://twitter.com/search?q=%22U.S.+Border+Patrol%22&src=trend_click&vertical=trends'}, {'name': '#ZakirHussain', 'postCount': 2063, 'domain': 'India', 'rank': 7, 'mobileIntent': 'twitter://search/?query=%23ZakirHussain&src=trend_click&pc=true&vertical=trends', 'webUrl': 'https://twitter.com/search?q=%22%23ZakirHussain%22&src=trend_click&vertical=trends'}, {'name': '#ReleaseSalmanAzhari', 'postCount': 139000, 'domain': 'India', 'rank': 8, 'mobileIntent': 'twitter://search/?query=%23ReleaseSalmanAzhari&src=trend_click&pc=true&vertical=trends', 'webUrl': 'https://twitter.com/search?q=%22%23ReleaseSalmanAzhari%22&src=trend_click&vertical=trends'}, {'name': '#TakingDownTrump', 'postCount': 10500, 'domain': 'Politics', 'rank': 9, 'mobileIntent': 'twitter://search/?query=%23TakingDownTrump&src=trend_click&pc=true&vertical=trends', 'webUrl': 'https://twitter.com/search?q=%22%23TakingDownTrump%22&src=trend_click&vertical=trends'}, {'name': 'yogiji bhutani corrupt hai', 'postCount': 2249, 'domain': 'India', 'rank': 10, 'mobileIntent': 'twitter://search/?query=yogiji+bhutani+corrupt+hai&src=trend_click&pc=true&vertical=trends', 'webUrl': 'https://twitter.com/search?q=%22yogiji+bhutani+corrupt+hai%22&src=trend_click&vertical=trends'}, {'name': 'मुफ़्ती सलमान', 'postCount': 93300, 'domain': 'India', 'rank': 11, 'mobileIntent': 'twitter://search/?query=%E0%A4%AE%E0%A5%81%E0%A4%AB%E0%A4%BC%E0%A5%8D%E0%A4%A4%E0%A5%80+%E0%A4%B8%E0%A4%B2%E0%A4%AE%E0%A4%BE%E0%A4%A8&src=trend_click&pc=true&vertical=trends', 'webUrl': 'https://twitter.com/search?q=%22%E0%A4%AE%E0%A5%81%E0%A4%AB%E0%A4%BC%E0%A5%8D%E0%A4%A4%E0%A5%80+%E0%A4%B8%E0%A4%B2%E0%A4%AE%E0%A4%BE%E0%A4%A8%22&src=trend_click&vertical=trends'}, {'name': 'We The People', 'postCount': 431000, 'domain': 'Politics', 'rank': 12, 'mobileIntent': 'twitter://search/?query=We+The+People&src=trend_click&pc=true&vertical=trends', 'webUrl': 'https://twitter.com/search?q=%22We+The+People%22&src=trend_click&vertical=trends'}, {'name': 'Musk', 'postCount': 111000, 'domain': 'Business & finance', 'rank': 13, 'mobileIntent': 'twitter://search/?query=Musk&src=trend_click&pc=true&vertical=trends', 'webUrl': 'https://twitter.com/search?q=%22Musk%22&src=trend_click&vertical=trends'}, {'name': 'Liz Cheney', 'postCount': 28300, 'domain': 'Politics', 'rank': 14, 'mobileIntent': 'twitter://search/?query=Liz+Cheney&src=trend_click&pc=true&vertical=trends', 'webUrl': 'https://twitter.com/search?q=%22Liz+Cheney%22&src=trend_click&vertical=trends'}, {'name': 'America First', 'postCount': 56700, 'domain': 'Politics', 'rank': 15, 'mobileIntent': 'twitter://search/?query=America+First&src=trend_click&pc=true&vertical=trends', 'webUrl': 'https://twitter.com/search?q=%22America+First%22&src=trend_click&vertical=trends'}, {'name': 'Vote NO', 'postCount': 124000, 'domain': 'Politics', 'rank': 16, 'mobileIntent': 'twitter://search/?query=Vote+NO&src=trend_click&pc=true&vertical=trends', 'webUrl': 'https://twitter.com/search?q=%22Vote+NO%22&src=trend_click&vertical=trends'}, {'name': 'Neymar', 'postCount': 81500, 'domain': 'Sports', 'rank': 17, 'mobileIntent': 'twitter://search/?query=Neymar&src=trend_click&pc=true&vertical=trends', 'webUrl': 'https://twitter.com/search?q=%22Neymar%22&src=trend_click&vertical=trends'}, {'name': 'vivek oberoi', 'postCount': 3061, 'domain': 'India', 'rank': 18, 'mobileIntent': 'twitter://search/?query=vivek+oberoi&src=trend_click&pc=true&vertical=trends', 'webUrl': 'https://twitter.com/search?q=%22vivek+oberoi%22&src=trend_click&vertical=trends'}, {'name': 'House Republicans', 'postCount': 130000, 'domain': 'Politics', 'rank': 19, 'mobileIntent': 'twitter://search/?query=House+Republicans&src=trend_click&pc=true&vertical=trends', 'webUrl': 'https://twitter.com/search?q=%22House+Republicans%22&src=trend_click&vertical=trends'}, {'name': 'Bellingham', 'postCount': 25200, 'domain': 'Football', 'rank': 20, 'mobileIntent': 'twitter://search/?query=Bellingham&src=trend_click&pc=true&vertical=trends', 'webUrl': 'https://twitter.com/search?q=%22Bellingham%22&src=trend_click&vertical=trends'}, {'name': 'Roma', 'postCount': 67500, 'domain': 'Football', 'rank': 21, 'mobileIntent': 'twitter://search/?query=Roma&src=trend_click&pc=true&vertical=trends', 'webUrl': 'https://twitter.com/search?q=%22Roma%22&src=trend_click&vertical=trends'}, {'name': 'Girona', 'postCount': 32500, 'domain': 'Football', 'rank': 22, 'mobileIntent': 'twitter://search/?query=Girona&src=trend_click&pc=true&vertical=trends', 'webUrl': 'https://twitter.com/search?q=%22Girona%22&src=trend_click&vertical=trends'}, {'name': 'Tina', 'postCount': 45100, 'domain': None, 'rank': 23, 'mobileIntent': 'twitter://search/?query=Tina&src=trend_click&pc=true&vertical=trends', 'webUrl': 'https://twitter.com/search?q=%22Tina%22&src=trend_click&vertical=trends'}, {'name': 'Nehru', 'postCount': 30500, 'domain': 'Politics', 'rank': 24, 'mobileIntent': 'twitter://search/?query=Nehru&src=trend_click&pc=true&vertical=trends', 'webUrl': 'https://twitter.com/search?q=%22Nehru%22&src=trend_click&vertical=trends'}, {'name': '#VoteBlueToSaveDemocracy', 'postCount': 3132, 'domain': 'Politics', 'rank': 25, 'mobileIntent': 'twitter://search/?query=%23VoteBlueToSaveDemocracy&src=trend_click&pc=true&vertical=trends', 'webUrl': 'https://twitter.com/search?q=%22%23VoteBlueToSaveDemocracy%22&src=trend_click&vertical=trends'}, {'name': 'Mike Johnson', 'postCount': 124000, 'domain': 'Politics', 'rank': 26, 'mobileIntent': 'twitter://search/?query=Mike+Johnson&src=trend_click&pc=true&vertical=trends', 'webUrl': 'https://twitter.com/search?q=%22Mike+Johnson%22&src=trend_click&vertical=trends'}, {'name': 'Chuck Schumer', 'postCount': 49100, 'domain': 'Politics', 'rank': 27, 'mobileIntent': 'twitter://search/?query=Chuck+Schumer&src=trend_click&pc=true&vertical=trends', 'webUrl': 'https://twitter.com/search?q=%22Chuck+Schumer%22&src=trend_click&vertical=trends'}, {'name': 'NDA 400', 'postCount': 29400, 'domain': 'India', 'rank': 28, 'mobileIntent': 'twitter://search/?query=NDA+400&src=trend_click&pc=true&vertical=trends', 'webUrl': 'https://twitter.com/search?q=%22NDA+400%22&src=trend_click&vertical=trends'}, {'name': 'Durk', 'postCount': 17500, 'domain': None, 'rank': 29, 'mobileIntent': 'twitter://search/?query=Durk&src=trend_click&pc=true&vertical=trends', 'webUrl': 'https://twitter.com/search?q=%22Durk%22&src=trend_click&vertical=trends'}, {'name': '#JharkhandFloorTest', 'postCount': 16000, 'domain': 'India', 'rank': 30, 'mobileIntent': 'twitter://search/?query=%23JharkhandFloorTest&src=trend_click&pc=true&vertical=trends', 'webUrl': 'https://twitter.com/search?q=%22%23JharkhandFloorTest%22&src=trend_click&vertical=trends'}, {'name': 'Raphinha', 'postCount': 5824, 'domain': 'Football', 'rank': 31, 'mobileIntent': 'twitter://search/?query=Raphinha&src=trend_click&pc=true&vertical=trends', 'webUrl': 'https://twitter.com/search?q=%22Raphinha%22&src=trend_click&vertical=trends'}, {'name': '#donateforkisannyay', 'postCount': 5994, 'domain': 'India', 'rank': 32, 'mobileIntent': 'twitter://search/?query=%23donateforkisannyay&src=trend_click&pc=true&vertical=trends', 'webUrl': 'https://twitter.com/search?q=%22%23donateforkisannyay%22&src=trend_click&vertical=trends'}, {'name': 'kandivali', 'postCount': 3559, 'domain': 'India', 'rank': 33, 'mobileIntent': 'twitter://search/?query=kandivali&src=trend_click&pc=true&vertical=trends', 'webUrl': 'https://twitter.com/search?q=%22kandivali%22&src=trend_click&vertical=trends'}, {'name': 'HDFC Bank', 'postCount': 2944, 'domain': 'India', 'rank': 34, 'mobileIntent': 'twitter://search/?query=HDFC+Bank&src=trend_click&pc=true&vertical=trends', 'webUrl': 'https://twitter.com/search?q=%22HDFC+Bank%22&src=trend_click&vertical=trends'}, {'name': '#PayTMCrisis', 'postCount': None, 'domain': 'India', 'rank': 35, 'mobileIntent': 'twitter://search/?query=%23PayTMCrisis&src=trend_click&pc=true&vertical=trends', 'webUrl': 'https://twitter.com/search?q=%22%23PayTMCrisis%22&src=trend_click&vertical=trends'}, {'name': 'RINO', 'postCount': 57700, 'domain': 'Politics', 'rank': 36, 'mobileIntent': 'twitter://search/?query=RINO&src=trend_click&pc=true&vertical=trends', 'webUrl': 'https://twitter.com/search?q=%22RINO%22&src=trend_click&vertical=trends'}, {'name': '#KingCharlesIII', 'postCount': 6218, 'domain': 'India', 'rank': 37, 'mobileIntent': 'twitter://search/?query=%23KingCharlesIII&src=trend_click&pc=true&vertical=trends', 'webUrl': 'https://twitter.com/search?q=%22%23KingCharlesIII%22&src=trend_click&vertical=trends'}, {'name': 'House GOP', 'postCount': 38800, 'domain': 'Politics', 'rank': 38, 'mobileIntent': 'twitter://search/?query=House+GOP&src=trend_click&pc=true&vertical=trends', 'webUrl': 'https://twitter.com/search?q=%22House+GOP%22&src=trend_click&vertical=trends'}, {'name': 'Haaland', 'postCount': 30400, 'domain': 'Football', 'rank': 39, 'mobileIntent': 'twitter://search/?query=Haaland&src=trend_click&pc=true&vertical=trends', 'webUrl': 'https://twitter.com/search?q=%22Haaland%22&src=trend_click&vertical=trends'}, {'name': '#GazaHoloucast', 'postCount': 9959, 'domain': None, 'rank': 40, 'mobileIntent': 'twitter://search/?query=%23GazaHoloucast&src=trend_click&pc=true&vertical=trends', 'webUrl': 'https://twitter.com/search?q=%22%23GazaHoloucast%22&src=trend_click&vertical=trends'}]}}\n",
            "No trending tweets found.\n"
          ]
        }
      ]
    },
    {
      "cell_type": "code",
      "source": [
        "import requests\n",
        "\n",
        "def get_origin_country(url):\n",
        "    # Extract the domain from the URL\n",
        "    domain = url.split(\"//\")[-1].split(\"/\")[0]\n",
        "\n",
        "    # Make a request to ipinfo.io API\n",
        "    response = requests.get(f\"https://ipinfo.io/{domain}/json\")\n",
        "\n",
        "    try:\n",
        "        response.raise_for_status()\n",
        "        data = response.json()\n",
        "\n",
        "        # Check if the response contains an error message\n",
        "        if 'error' in data:\n",
        "            return \"Unknown\"\n",
        "\n",
        "        country = data.get('country')\n",
        "\n",
        "        if country:\n",
        "            return country\n",
        "        else:\n",
        "            return \"Unknown\"\n",
        "\n",
        "    except requests.exceptions.RequestException as e:\n",
        "        print(f\"Error: {e}\")\n",
        "        return \"Unknown\"\n",
        "\n",
        "\n",
        "url = \"http://www.nj.com/news/index.ssf/2018/03/this_nj_gas_station_sold_fourth_largest_jackpot_in.html\"\n",
        "origin_country = get_origin_country(url)\n",
        "print(f\"The origin country of {url} is: {origin_country}\")\n"
      ],
      "metadata": {
        "colab": {
          "base_uri": "https://localhost:8080/"
        },
        "id": "ZHUnZKMuyuQc",
        "outputId": "14122257-7c47-4ea5-9ead-5632f148b10f"
      },
      "execution_count": 21,
      "outputs": [
        {
          "output_type": "stream",
          "name": "stdout",
          "text": [
            "Error: 404 Client Error: Not Found for url: https://ipinfo.io/www.nj.com/json\n",
            "The origin country of http://www.nj.com/news/index.ssf/2018/03/this_nj_gas_station_sold_fourth_largest_jackpot_in.html is: Unknown\n"
          ]
        }
      ]
    },
    {
      "cell_type": "code",
      "source": [
        "import requests\n",
        "\n",
        "url = \"https://real-time-events-search.p.rapidapi.com/search-events\"\n",
        "\n",
        "location = input(\"Enter the location (e.g., San Francisco): \")\n",
        "\n",
        "params = {\n",
        "    \"query\": f\"Events in {location}\",\n",
        "    \"start\": \"0\"\n",
        "}\n",
        "\n",
        "headers = {\n",
        "    \"X-RapidAPI-Key\": \"fb3477a566mshc1dde9b3caee813p163f63jsne69794155513\",\n",
        "    \"X-RapidAPI-Host\": \"real-time-events-search.p.rapidapi.com\"\n",
        "}\n",
        "\n",
        "response = requests.get(url, params=params, headers=headers)\n",
        "\n",
        "try:\n",
        "    response.raise_for_status()\n",
        "    data = response.json()\n",
        "\n",
        "    if isinstance(data, list):\n",
        "        for event in data:\n",
        "            print(f\"Event: {event['name']}, Type: {event['type']}, Label: {event['label']}\")\n",
        "    else:\n",
        "        print(f\"{data}\")\n",
        "except requests.exceptions.RequestException as e:\n",
        "    print(f\"Error: {e}\")\n"
      ],
      "metadata": {
        "colab": {
          "base_uri": "https://localhost:8080/"
        },
        "id": "0V72-Q0-4CdH",
        "outputId": "5b0f4ccc-2bf9-48e5-a88c-731a7b69f03a"
      },
      "execution_count": 40,
      "outputs": [
        {
          "output_type": "stream",
          "name": "stdout",
          "text": [
            "Enter the location (e.g., San Francisco): Japan\n",
            "{'status': 'OK', 'request_id': 'fb9b6431-376f-4e8c-9778-65911d51471c', 'parameters': {'query': 'events in japan', 'start': 0}, 'data': [{'event_id': 'L2F1dGhvcml0eS9ob3Jpem9uL2NsdXN0ZXJlZF9ldmVudC8yMDI0LTAyLTA3fF84ODY5MDAzODM1MDQwMDk3NzIz', 'event_mid': '/g/11svrxly3_', 'name': 'The Eras Tour', 'description': 'Taylor Swift has captivated countless fans in the United States with her Eras Tour, which is quite literally described as a journey in music form throughout the eras of her career. Four shows of the tour have been scheduled at Tokyo Dome in early February 2024.', 'start_time': '2024-02-07 09:00:00', 'end_time': '2024-02-10 23:59:00', 'is_virtual': False, 'thumbnail': 'https://event.1242.com/wp-content/uploads/2023/06/2_TaylorSwift_1200_1200.jpg', 'ticket_links': [{'source': 'taylorswift-theerastour', 'link': 'https://tokyocheapo.com/events/taylor-swift-the-eras-tour/'}], 'info_links': [{'source': 'Japan Travel', 'link': 'https://en.japantravel.com/tokyo/taylor-swift-eras-tour/69968'}, {'source': 'Expedia.com', 'link': 'https://www.expedia.com/event-tickets/event/event/taylor-swift-tickets-tokyo-dome-tokyo-tk-2-7-2024-5774388'}, {'source': 'Tokyo Cheapo', 'link': 'https://tokyocheapo.com/events/taylor-swift-the-eras-tour/'}, {'source': 'Prestige Online', 'link': 'https://www.prestigeonline.com/my/lifestyle/property/taylor-swift-eras-tour-hotels/'}, {'source': 'Pollstar', 'link': 'https://www.pollstar.com/events/-8400876'}], 'venue': {'google_id': '0x60188c4782eed4f3:0x5058b288249e640e', 'name': 'Tokyo Dome', 'phone_number': '+81358009999', 'website': 'https://www.tokyo-dome.co.jp/dome/', 'review_count': 40398, 'rating': 4.2, 'subtype': 'stadium', 'subtypes': ['stadium', 'athletic_field', 'athletics', 'attraction', 'baseball', 'baseball_field', 'entertainment_and_recreation', 'establishment', 'establishment_poi', 'event_venue', 'fairground', 'feature', 'places_of_interest', 'public_api_establishment', 'recreation', 'sports', 'sports_activity_location', 'sports_complex', 'tourism', 'tourist_attraction', 'travel', 'vacances'], 'full_address': '1 Chome-3-61 Koraku, Bunkyo City, Tokyo 112-0004, Japan', 'latitude': 35.70564, 'longitude': 139.75189, 'city': 'Bunkyo City', 'state': 'Tokyo', 'country': 'JP', 'timezone': 'Asia/Tokyo', 'google_mid': '/m/032ctp'}, 'tags': ['music', 'show'], 'language': 'en'}, {'event_id': 'L2F1dGhvcml0eS9ob3Jpem9uL2NsdXN0ZXJlZF9ldmVudC8yMDI0LTAyLTA4fF8xMTc2ODU2NDgzNTI5ODc5NzE0', 'event_mid': '/g/11ks2dj87t', 'name': 'Taylor Swift', 'description': 'Taylor Swift concert in Tokyo, Taylor Swift live in concert at Tokyo, is a concert which takes place on the 02/08/2024 at 03:30 in Tokyo Dome, Tokyo, Japan. Its music style is mainly considered Pop.', 'start_time': '2024-02-08 16:00:00', 'end_time': '2024-02-08 23:00:00', 'is_virtual': False, 'thumbnail': 'https://lastfm.freetls.fastly.net/i/u/arXL/6971f1b14f4c0336954dff081d0d91de', 'ticket_links': [{'source': 'Wegow', 'link': 'https://www.wegow.com/se/concerts/taylor-swift-concert-in-tokyo-tokyo-dome-2'}, {'source': 'prf', 'link': 'https://www.jambase.com/show/taylor-swift-tokyo-dome-20240208'}, {'source': 'mu-mo', 'link': 'https://www.jambase.com/show/taylor-swift-tokyo-dome-20240208'}, {'source': 'TicketSmarter', 'link': 'https://www.ticketsmarter.com/e/taylor-swift-tickets-tokyo-2-8-2024-tokyo-dome/5774389'}], 'info_links': [{'source': 'Expedia.com', 'link': 'https://www.expedia.com/event-tickets/event/event/taylor-swift-tickets-tokyo-dome-tokyo-tk-2-8-2024-5774389'}, {'source': 'Last.fm', 'link': 'https://www.last.fm/event/4734625+Taylor+Swift:+The+Eras+Tour'}, {'source': 'agendaconcerts', 'link': 'http://agendaconcerts.cat/en/concert.php?CONCERTURLEN=taylor-swift-tokyo-dome-2534525'}, {'source': 'Ticombo', 'link': 'https://www.ticombo.com/en/discover/event/taylor-swift-the-eras-tour-2402071900'}, {'source': 'SeatPick', 'link': 'https://seatpick.com/taylor-swift-tickets/event/264990'}], 'venue': {'google_id': '0x60188c4782eed4f3:0x5058b288249e640e', 'name': 'Tokyo Dome', 'phone_number': '+81358009999', 'website': 'https://www.tokyo-dome.co.jp/dome/', 'review_count': 40398, 'rating': 4.2, 'subtype': 'stadium', 'subtypes': ['stadium', 'athletic_field', 'athletics', 'attraction', 'baseball', 'baseball_field', 'entertainment_and_recreation', 'establishment', 'establishment_poi', 'event_venue', 'fairground', 'feature', 'places_of_interest', 'public_api_establishment', 'recreation', 'sports', 'sports_activity_location', 'sports_complex', 'tourism', 'tourist_attraction', 'travel', 'vacances'], 'full_address': '1 Chome-3-61 Koraku, Bunkyo City, Tokyo 112-0004, Japan', 'latitude': 35.70564, 'longitude': 139.75189, 'city': 'Bunkyo City', 'state': 'Tokyo', 'country': 'JP', 'timezone': 'Asia/Tokyo', 'google_mid': '/m/032ctp'}, 'tags': ['music', 'show'], 'language': 'en'}, {'event_id': 'L2F1dGhvcml0eS9ob3Jpem9uL2NsdXN0ZXJlZF9ldmVudC8yMDI0LTAyLTA3fDE1NzA3NDE3NDA3MzExODIzNjE2', 'event_mid': '/g/11vb3m0tm2', 'name': 'OWL CITY', 'start_time': '2024-02-07 19:00:00', 'is_virtual': False, 'info_links': [{'source': 'Spotify', 'link': 'https://open.spotify.com/concert/4J2JRNz3E5glbA7knHdQ4k'}, {'source': 'JamBase', 'link': 'https://www.jambase.com/show/owl-city-big-cat-20240207'}], 'venue': {'google_id': '0x6000e710519fc2c9:0x290d8038f398edb3', 'name': 'BIGCAT', 'phone_number': '+81662585008', 'website': 'http://www.bigcat-live.com/', 'review_count': 781, 'rating': 4.1, 'subtype': 'live_music_venue', 'subtypes': ['live_music_venue', 'art', 'culture', 'education_and_culture', 'entertainment', 'entertainment_and_recreation', 'establishment', 'establishment_poi', 'event_venue', 'feature', 'music', 'performing_arts', 'public_api_establishment'], 'latitude': 34.672344, 'longitude': 135.49886, 'city': 'Osaka', 'state': 'Osaka', 'country': 'JP', 'timezone': 'Asia/Tokyo', 'google_mid': '/g/1yfdrpwfp'}, 'tags': ['music', 'show'], 'language': 'en'}, {'event_id': 'L2F1dGhvcml0eS9ob3Jpem9uL2NsdXN0ZXJlZF9ldmVudC8yMDI0LTAyLTA5fF8yNjU5NDg4MjE4OTQ3MjM4MDE2', 'event_mid': '/g/11kr80g5pz', 'name': 'Taylor Swift Eras Tour', 'description': '                  ', 'start_time': '2024-02-09 16:00:00', 'end_time': '2024-02-09 23:00:00', 'is_virtual': False, 'thumbnail': 'https://lastfm.freetls.fastly.net/i/u/arXL/bc825cb85fb29b37f2516588387fd7a9', 'ticket_links': [{'source': 'Wegow', 'link': 'https://www.wegow.com/ca/concerts/taylor-swift-concert-in-tokyo-tokyo-dome-3'}, {'source': \"Sherry's Tickets\", 'link': 'https://www.sherrystickets.com/events/2330589/taylor-swift-tickets'}, {'source': 'Top Star Tickets', 'link': 'https://www.topstartickets.com/Event/Taylor-Swift-Tokyo-Dome-2024-02-09-18-30-00-Tickets'}, {'source': 'TicketMamba', 'link': 'https://www.ticketmamba.com/events/2330589/taylor-swift-tickets'}], 'info_links': [{'source': 'Last.fm', 'link': 'https://www.last.fm/event/4734626+Taylor+Swift:+The+Eras+Tour'}, {'source': 'Pollstar', 'link': 'https://www.pollstar.com/events/-8400878'}, {'source': 'Outside', 'link': 'https://outside.so/explore/taylor-swift-the-eras-tour-february-9-tokyo-dome'}, {'source': 'Ticombo', 'link': 'https://www.ticombo.com/en/discover/event/taylor-swift-the-eras-tour-2402081900'}, {'source': 'StubHub', 'link': 'https://www.stubhub.com/taylor-swift-tokyo-tickets-2-9-2024/event/151949509/'}], 'venue': {'google_id': '0x60188c4782eed4f3:0x5058b288249e640e', 'name': 'Tokyo Dome', 'phone_number': '+81358009999', 'website': 'https://www.tokyo-dome.co.jp/dome/', 'review_count': 40398, 'rating': 4.2, 'subtype': 'stadium', 'subtypes': ['stadium', 'athletic_field', 'athletics', 'attraction', 'baseball', 'baseball_field', 'entertainment_and_recreation', 'establishment', 'establishment_poi', 'event_venue', 'fairground', 'feature', 'places_of_interest', 'public_api_establishment', 'recreation', 'sports', 'sports_activity_location', 'sports_complex', 'tourism', 'tourist_attraction', 'travel', 'vacances'], 'full_address': '1 Chome-3-61 Koraku, Bunkyo City, Tokyo 112-0004, Japan', 'latitude': 35.70564, 'longitude': 139.75189, 'city': 'Bunkyo City', 'state': 'Tokyo', 'country': 'JP', 'timezone': 'Asia/Tokyo', 'google_mid': '/m/032ctp'}, 'tags': ['concert', 'music', 'show'], 'language': 'en'}, {'event_id': 'L2F1dGhvcml0eS9ob3Jpem9uL2NsdXN0ZXJlZF9ldmVudC8yMDI0LTAyLTEwfF80MzcyNTAyMDQ1MDU3MTg4NTI2', 'event_mid': '/g/11v3h95c6v', 'name': 'Taylor Swift', 'description': 'Taylor Swift concert in Tokyo, Tickets Coming Soon, is a concert which takes place on the 02/10/2024 at 17:00 in Tokyo Dome, Tokyo, Japan. Its music style is mainly considered Pop.', 'start_time': '2024-02-10 17:00:00', 'end_time': '2024-02-10 23:00:00', 'is_virtual': False, 'thumbnail': 'https://lastfm.freetls.fastly.net/i/u/arXL/804c2bd9b12e2b04212fbd98a9624986', 'ticket_links': [{'source': 'Wegow', 'link': 'https://www.wegow.com/nl/concerts/taylor-swift-concert-in-tokyo'}, {'source': \"Sherry's Tickets\", 'link': 'https://www.sherrystickets.com/events/2330590/taylor-swift-tickets'}, {'source': 'Ticket Rescue', 'link': 'https://www.ticketrescue.shop/events/taylor-swift_tokyo-_tokyo-dome_2024-02-10-18-30-00/2330590'}, {'source': 'TicketSmarter', 'link': 'https://www.ticketsmarter.com/e/taylor-swift-tickets-tokyo-2-10-2024-tokyo-dome/5774391'}], 'info_links': [{'source': 'Spotify', 'link': 'https://open.spotify.com/concert/4H7tFBIsTILScZk6qO2UGy'}, {'source': 'Expedia.com', 'link': 'https://www.expedia.com/event-tickets/event/event/taylor-swift-tickets-tokyo-dome-tokyo-tk-2-10-2024-5774391'}, {'source': 'Last.fm', 'link': 'https://www.last.fm/event/4734628+Taylor+Swift:+The+Eras+Tour'}, {'source': 'Pollstar', 'link': 'https://www.pollstar.com/events/-8400879'}, {'source': 'Outside', 'link': 'https://outside.so/explore/taylor-swift-the-eras-tour-february-10-tokyo-dome'}], 'venue': {'google_id': '0x60188c4782eed4f3:0x5058b288249e640e', 'name': 'Tokyo Dome', 'phone_number': '+81358009999', 'website': 'https://www.tokyo-dome.co.jp/dome/', 'review_count': 40398, 'rating': 4.2, 'subtype': 'stadium', 'subtypes': ['stadium', 'athletic_field', 'athletics', 'attraction', 'baseball', 'baseball_field', 'entertainment_and_recreation', 'establishment', 'establishment_poi', 'event_venue', 'fairground', 'feature', 'places_of_interest', 'public_api_establishment', 'recreation', 'sports', 'sports_activity_location', 'sports_complex', 'tourism', 'tourist_attraction', 'travel', 'vacances'], 'full_address': '1 Chome-3-61 Koraku, Bunkyo City, Tokyo 112-0004, Japan', 'latitude': 35.70564, 'longitude': 139.75189, 'city': 'Bunkyo City', 'state': 'Tokyo', 'country': 'JP', 'timezone': 'Asia/Tokyo', 'google_mid': '/m/032ctp'}, 'tags': ['music', 'show'], 'language': 'en'}, {'event_id': 'L2F1dGhvcml0eS9ob3Jpem9uL2NsdXN0ZXJlZF9ldmVudC8yMDI0LTAyLTA4fDkzOTAyNDQ1MTMwODU1OTE2Nzk=', 'event_mid': '/g/11vcmd52dl', 'name': 'HEY-SMITH', 'description': '(Feb,2006) Performed the LIVE for the first time (Jul,2007) Performed by the opening performance of SUBB JAPAN TOUR (Sep,2007) Performed by the opening performance of AUTHORITY ZERO & FREYGOLO JAPAN TOUR (Apr,2008) Performed by the opening performance of THE B FOUNDATION JAPAN TOUR (Aug,2009) Releas', 'start_time': '2024-02-08 18:30:00', 'end_time': '2024-02-08 23:59:00', 'is_virtual': False, 'thumbnail': 'https://static.livefans.jp/img/images/live/big/livefans298122_0.jpg?lID=1581620', 'ticket_links': [{'source': 'Bandsintown', 'link': 'https://www.bandsintown.com/e/1029447485-hey-smith-at-spotify-o-east'}], 'info_links': [{'source': 'Stripes Okinawa - Stars and Stripes', 'link': 'https://okinawa.stripes.com/events?_evDiscoveryPath=/event/1029447485n-hey-smith'}], 'venue': {'google_id': '0x60188caa1779185b:0x790982143d7b6367', 'name': 'Spotify O-EAST', 'phone_number': '+81354584681', 'website': 'https://shibuya-o.com/east/?utm_source=business-profile&utm_medium=listing', 'review_count': 2206, 'rating': 4.1, 'subtype': 'live_music_venue', 'subtypes': ['live_music_venue', 'art', 'culture', 'education_and_culture', 'entertainment', 'entertainment_and_recreation', 'establishment', 'establishment_poi', 'event_venue', 'feature', 'music', 'performing_arts', 'public_api_establishment'], 'full_address': '2 Chome-14-8 Dogenzaka, Shibuya City, Tokyo 150-0043, Japan', 'latitude': 35.658722, 'longitude': 139.69562, 'city': 'Shibuya City', 'state': 'Tokyo', 'country': 'JP', 'timezone': 'Asia/Tokyo', 'google_mid': '/m/0z88lx4'}, 'tags': ['music', 'rock', 'show'], 'language': 'en'}, {'event_id': 'L2F1dGhvcml0eS9ob3Jpem9uL2NsdXN0ZXJlZF9ldmVudC8yMDI0LTAyLTA5fDExOTE4NDU4MjU4MDQwOTQ1MDI2', 'event_mid': '/g/11l5fvjrqh', 'name': 'MICHAEL MONROE', 'description': 'No description', 'start_time': '2024-02-09 19:00:00', 'end_time': '2024-02-09 23:00:00', 'is_virtual': False, 'thumbnail': 'https://static.livefans.jp/img/images/live/big/livefans5148753_0.jpg?lID=1600646', 'ticket_links': [{'source': 'prf', 'link': 'https://www.jambase.com/show/michael-monroe-club-quattro-20240209'}, {'source': 'club-quattro', 'link': 'https://www.jambase.com/show/michael-monroe-club-quattro-20240209'}], 'info_links': [{'source': 'Spotify', 'link': 'https://open.spotify.com/concert/4eM4E2JYDEtNKuJdczozjk'}, {'source': 'eplus', 'link': 'https://ib.eplus.jp/index.php?dispatch=products.view&product_id=3294'}, {'source': 'Stripes Okinawa - Stars and Stripes', 'link': 'https://okinawa.stripes.com/events?_evDiscoveryPath=/event/1029761568n-michael-monroe'}, {'source': 'JamBase', 'link': 'https://www.jambase.com/show/michael-monroe-club-quattro-20240209'}], 'venue': {'google_id': '0x6000e6eb5ad0a08b:0x927975409480db9', 'name': 'Umeda Club Quattro', 'phone_number': '+81663118111', 'website': 'http://www.club-quattro.com/', 'review_count': 1018, 'rating': 4.1, 'subtype': 'live_music_venue', 'subtypes': ['live_music_venue', 'art', 'culture', 'education_and_culture', 'entertainment', 'entertainment_and_recreation', 'establishment', 'establishment_poi', 'event_venue', 'feature', 'music', 'performing_arts', 'public_api_establishment'], 'full_address': '8-17 Taiyujicho, Kita Ward, Osaka, 530-0051, Japan', 'latitude': 34.701744, 'longitude': 135.50224, 'city': 'Osaka', 'state': 'Osaka', 'country': 'JP', 'timezone': 'Asia/Tokyo', 'google_mid': '/g/11h051xv8'}, 'tags': ['music', 'show'], 'language': 'en'}, {'event_id': 'L2F1dGhvcml0eS9ob3Jpem9uL2NsdXN0ZXJlZF9ldmVudC8yMDI0LTAyLTA3fDM1OTk0MDAxMTk0OTg1MTkwODM=', 'event_mid': '/g/11vlqbzb0s', 'name': 'QUEENS OF THE STONE AGE', 'description': 'No description', 'start_time': '2024-02-07 19:00:00', 'end_time': '2024-02-07 22:00:00', 'is_virtual': False, 'ticket_links': [{'source': 'Bandsintown', 'link': 'https://www.bandsintown.com/e/104951690-queens-of-the-stone-age-at-tokyo-dome-city-hall'}], 'info_links': [{'source': 'Spotify', 'link': 'https://open.spotify.com/concert/2pgq1MQRNc39pwEoBbOTOA'}, {'source': 'Stripes Japan - Stars and Stripes', 'link': 'https://japan.stripes.com/events?_evDiscoveryPath=/event/104951690n-queens-of-the-stone-age'}], 'venue': {'google_id': '0x60188d3597a9f885:0x1f7f744127cbc2fd', 'name': 'Tokyo Dome City Hall', 'phone_number': '+81358009999', 'website': 'https://www.tokyo-dome.co.jp/tdc-hall/', 'review_count': 845, 'rating': 4.3, 'subtype': 'fairground', 'subtypes': ['fairground', 'art', 'auditorium', 'concert_hall', 'culture', 'education_and_culture', 'entertainment', 'entertainment_and_recreation', 'establishment', 'establishment_poi', 'event_venue', 'feature', 'hall', 'live_music_venue', 'music', 'nightlife', 'performing_arts', 'public_api_establishment'], 'latitude': 35.703365, 'longitude': 139.75423, 'city': 'Bunkyo City', 'state': 'Tokyo', 'country': 'JP', 'timezone': 'Asia/Tokyo', 'google_mid': '/g/11f6z7qzsb'}, 'tags': ['music', 'show'], 'language': 'en'}, {'event_id': 'L2F1dGhvcml0eS9ob3Jpem9uL2NsdXN0ZXJlZF9ldmVudC8yMDI0LTAyLTA3fF8xNzEyOTgwNTAwNTE3MDQ0NzM5Ng==', 'event_mid': '/g/11v49yfbzt', 'name': 'Queen & Adam Lambert', 'description': 'Infos unter Queen + Adam Lambert Extend Touring Into 2024 with announcement February Japan Shows\\n\\nThe Rhapsody Tour\\n\\nTicketvorverkauf:\\n\\nAugust 10 (Thu) 12:00 pm – October 6 (Fri) 23:59 pm :\\nTicket company Pre-sale *Lottery – for Japanese residents only*.\\n\\nOctober 7 ( Mon) 12:00 pm – October 25 ( Wed) 23:59 pm:\\nPre-sale for overseas customers >> ib.eplus.jp/queen-adamlambert/\\n\\nOctober 28 (Sat) 10:00am : Public On-sale\\n– www.creativeman.co.jp', 'start_time': '2024-02-07 19:00:00', 'is_virtual': False, 'thumbnail': 'https://static.livefans.jp/img/images/live/big/livefans1891247_0.jpg?lID=1579393', 'ticket_links': [{'source': 'Gold Coast Tickets', 'link': 'https://goldcoasttickets.com/pop-rock/queen-and-adam-lambert-6131407'}, {'source': 'Box Office Ticket Sales', 'link': 'https://www.boxofficeticketsales.com/adam-lambert/chiyozaki'}], 'info_links': [{'source': 'Expedia.com', 'link': 'https://www.expedia.com/event-tickets/event/queen-adam-lambert-tickets-kyocera-dome-chiyozaki-os-2-7-2024-6131407'}, {'source': 'SI Tickets', 'link': 'https://www.sitickets.com/event/queen-adam-lambert-49'}, {'source': 'Queen Fan-Club Germany', 'link': 'https://www.queenfcg.de/en/component/jem/venue/7533-kyocera-dome'}, {'source': 'perto.com', 'link': 'https://en.perto.com/jp/osaka-44346/kyocera-dome-813685/queen-adam-lambert-8868621/'}, {'source': 'BigStub', 'link': 'https://www.bigstub.com/Queen-Tickets/Chiyozaki-Japan/event-6131407-February-7th-2024-Kyocera-Dome'}], 'venue': {'google_id': '0x6000e7b24b87684b:0x535f75f9161484f1', 'name': 'Kyocera Dome Osaka', 'phone_number': '+81665860106', 'website': 'http://www.kyoceradome-osaka.jp/', 'review_count': 14182, 'rating': 4.1, 'subtype': 'baseball_field', 'subtypes': ['baseball_field', 'arena', 'athletic_field', 'athletics', 'baseball', 'entertainment_and_recreation', 'establishment', 'establishment_poi', 'event_venue', 'feature', 'places_of_interest', 'public_api_establishment', 'recreation', 'sports', 'sports_activity_location', 'sports_complex', 'stadium'], 'full_address': '3 Chome-中２−１ Chiyozaki, Nishi Ward, Osaka, 550-0023, Japan', 'latitude': 34.66928, 'longitude': 135.47614, 'city': 'Osaka', 'state': 'Osaka', 'country': 'JP', 'timezone': 'Asia/Tokyo', 'google_mid': '/g/12xqz5chj'}, 'tags': ['concert', 'music', 'rock', 'show'], 'language': 'en'}, {'event_id': 'L2F1dGhvcml0eS9ob3Jpem9uL2NsdXN0ZXJlZF9ldmVudC8yMDI0LTAyLTA3fDk5MjEwNDY1NDY2NzMyOTE5MjM=', 'event_mid': '/g/11l5fvlj56', 'name': 'MICHAEL MONROE', 'description': 'No description', 'start_time': '2024-02-07 19:00:00', 'end_time': '2024-02-07 23:00:00', 'is_virtual': False, 'thumbnail': 'https://static.livefans.jp/img/images/live/big/livefans3649422_0.jpg?lID=1602115', 'ticket_links': [{'source': '\\n\\x0bBandsintown', 'link': 'https://www.bandsintown.com/e/1029760735'}], 'info_links': [{'source': 'Spotify', 'link': 'https://open.spotify.com/concert/1XlMb0W9zQ0bVsRHklVm70'}, {'source': 'eplus', 'link': 'https://ib.eplus.jp/index.php?dispatch=products.view&product_id=3292&date=1707145200'}, {'source': 'Stripes Okinawa - Stars and Stripes', 'link': 'https://okinawa.stripes.com/events?_evDiscoveryPath=/event/1029760735n-michael-monroe'}], 'venue': {'google_id': '0x60188caa1779185b:0x790982143d7b6367', 'name': 'Spotify O-EAST', 'phone_number': '+81354584681', 'website': 'https://shibuya-o.com/east/?utm_source=business-profile&utm_medium=listing', 'review_count': 2206, 'rating': 4.1, 'subtype': 'live_music_venue', 'subtypes': ['live_music_venue', 'art', 'culture', 'education_and_culture', 'entertainment', 'entertainment_and_recreation', 'establishment', 'establishment_poi', 'event_venue', 'feature', 'music', 'performing_arts', 'public_api_establishment'], 'full_address': '2 Chome-14-8 Dogenzaka, Shibuya City, Tokyo 150-0043, Japan', 'latitude': 35.658722, 'longitude': 139.69562, 'city': 'Shibuya City', 'state': 'Tokyo', 'country': 'JP', 'timezone': 'Asia/Tokyo', 'google_mid': '/m/0z88lx4'}, 'tags': ['music', 'show'], 'language': 'en'}]}\n"
          ]
        }
      ]
    },
    {
      "cell_type": "code",
      "source": [
        "from langdetect import detect\n",
        "\n",
        "text = input(\"Enter text: \")\n",
        "language = detect(text)\n",
        "\n",
        "print(\"Detected language:\", language)"
      ],
      "metadata": {
        "colab": {
          "base_uri": "https://localhost:8080/"
        },
        "id": "EqDGaefELEyC",
        "outputId": "a31327f6-36c2-4928-f5a8-8c419aba908b"
      },
      "execution_count": 48,
      "outputs": [
        {
          "output_type": "stream",
          "name": "stdout",
          "text": [
            "Enter text: आप कैसे हैं\n",
            "Detected language: hi\n"
          ]
        }
      ]
    },
    {
      "cell_type": "code",
      "source": [
        "\n",
        "\n",
        "from langdetect import detect\n",
        "import pycountry\n",
        "\n",
        "text = input(\"Enter text: \")\n",
        "language_code = detect(text)\n",
        "\n",
        "try:\n",
        "    language = pycountry.languages.get(alpha_2=language_code).name\n",
        "except AttributeError:\n",
        "    language = \"Unknown\"\n",
        "\n",
        "try:\n",
        "    country = pycountry.countries.get(alpha_2=language_code).name\n",
        "except AttributeError:\n",
        "    country = \"Unknown\"\n",
        "\n",
        "print(\"Detected language :\", language)\n",
        "print(\"Detected country :\", country)\n"
      ],
      "metadata": {
        "colab": {
          "base_uri": "https://localhost:8080/"
        },
        "id": "8nVVz_0qMKF_",
        "outputId": "0976a228-a88e-4a1c-a34e-621580664250"
      },
      "execution_count": null,
      "outputs": [
        {
          "metadata": {
            "tags": null
          },
          "name": "stdout",
          "output_type": "stream",
          "text": [
            "Requirement already satisfied: langdetect in /usr/local/lib/python3.10/dist-packages (1.0.9)\n",
            "Requirement already satisfied: pycountry in /usr/local/lib/python3.10/dist-packages (23.12.11)\n",
            "Requirement already satisfied: six in /usr/local/lib/python3.10/dist-packages (from langdetect) (1.16.0)\n"
          ]
        }
      ]
    },
    {
      "cell_type": "code",
      "source": [
        "!pip install langdetect\n",
        "\n",
        "from langdetect import detect\n",
        "\n",
        "text = input(\"Enter text: \")\n",
        "language = detect(text)\n",
        "\n",
        "print(\"Detected language:\", language)\n"
      ],
      "metadata": {
        "colab": {
          "base_uri": "https://localhost:8080/"
        },
        "id": "N-3gf2C1N3UL",
        "outputId": "94d5043d-f968-4868-8be2-4ebf76eb5869"
      },
      "execution_count": 49,
      "outputs": [
        {
          "output_type": "stream",
          "name": "stdout",
          "text": [
            "Requirement already satisfied: langdetect in /usr/local/lib/python3.10/dist-packages (1.0.9)\n",
            "Requirement already satisfied: six in /usr/local/lib/python3.10/dist-packages (from langdetect) (1.16.0)\n",
            "Enter text: आप कैसे हैं\n",
            "Detected language: hi\n"
          ]
        }
      ]
    }
  ]
}